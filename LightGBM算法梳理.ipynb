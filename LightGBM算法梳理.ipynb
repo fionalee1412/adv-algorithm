{
  "cells": [
    {
      "cell_type": "markdown",
      "metadata": {
        "collapsed": true,
        "pycharm": {
          "name": "#%% md\n"
        }
      },
      "source": "# LightGBM算法梳理\n## 1.LightGBM\n## 2.LightGBM的起源\n## 3.Histogram VS pre-sorted\n## 4.leaf-wise VS level-wise\n## 5.特征并行和数据并行\n## 6.顺序访问梯度\n## 7.支持类别特征\n## 8.应用场景\n## 9.sklearn参数\n## 10.CatBoost(了解)"
    }
  ],
  "metadata": {
    "language_info": {
      "codemirror_mode": {
        "name": "ipython",
        "version": 2
      },
      "file_extension": ".py",
      "mimetype": "text/x-python",
      "name": "python",
      "nbconvert_exporter": "python",
      "pygments_lexer": "ipython2",
      "version": "2.7.6"
    },
    "kernelspec": {
      "name": "python3",
      "language": "python",
      "display_name": "Python 3"
    }
  },
  "nbformat": 4,
  "nbformat_minor": 0
}